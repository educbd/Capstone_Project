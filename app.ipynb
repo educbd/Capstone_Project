{
 "cells": [
  {
   "cell_type": "code",
   "execution_count": 1,
   "metadata": {},
   "outputs": [
    {
     "name": "stdout",
     "output_type": "stream",
     "text": [
      "Requirement already satisfied: flask in c:\\users\\karan\\anaconda3\\lib\\site-packages (3.0.3)\n",
      "Requirement already satisfied: blinker>=1.6.2 in c:\\users\\karan\\anaconda3\\lib\\site-packages (from flask) (1.7.0)\n",
      "Requirement already satisfied: importlib-metadata>=3.6.0 in c:\\users\\karan\\anaconda3\\lib\\site-packages (from flask) (4.11.3)\n",
      "Requirement already satisfied: itsdangerous>=2.1.2 in c:\\users\\karan\\anaconda3\\lib\\site-packages (from flask) (2.1.2)\n",
      "Requirement already satisfied: click>=8.1.3 in c:\\users\\karan\\anaconda3\\lib\\site-packages (from flask) (8.1.7)\n",
      "Requirement already satisfied: Werkzeug>=3.0.0 in c:\\users\\karan\\anaconda3\\lib\\site-packages (from flask) (3.0.2)\n",
      "Requirement already satisfied: Jinja2>=3.1.2 in c:\\users\\karan\\anaconda3\\lib\\site-packages (from flask) (3.1.3)\n",
      "Requirement already satisfied: colorama in c:\\users\\karan\\anaconda3\\lib\\site-packages (from click>=8.1.3->flask) (0.4.5)\n",
      "Requirement already satisfied: zipp>=0.5 in c:\\users\\karan\\anaconda3\\lib\\site-packages (from importlib-metadata>=3.6.0->flask) (3.8.0)\n",
      "Requirement already satisfied: MarkupSafe>=2.0 in c:\\users\\karan\\anaconda3\\lib\\site-packages (from Jinja2>=3.1.2->flask) (2.1.5)\n"
     ]
    }
   ],
   "source": [
    "!pip install flask"
   ]
  },
  {
   "cell_type": "code",
   "execution_count": 2,
   "metadata": {},
   "outputs": [
    {
     "name": "stdout",
     "output_type": "stream",
     "text": [
      "Requirement already satisfied: flask in c:\\users\\karan\\anaconda3\\lib\\site-packages (3.0.3)"
     ]
    },
    {
     "name": "stderr",
     "output_type": "stream",
     "text": [
      "WARNING: Retrying (Retry(total=4, connect=None, read=None, redirect=None, status=None)) after connection broken by 'NewConnectionError('<pip._vendor.urllib3.connection.HTTPSConnection object at 0x000001FEEC3093D0>: Failed to establish a new connection: [Errno 11001] getaddrinfo failed')': /simple/flask/\n",
      "WARNING: Retrying (Retry(total=3, connect=None, read=None, redirect=None, status=None)) after connection broken by 'NewConnectionError('<pip._vendor.urllib3.connection.HTTPSConnection object at 0x000001FEEC309700>: Failed to establish a new connection: [Errno 11001] getaddrinfo failed')': /simple/flask/\n",
      "WARNING: Retrying (Retry(total=2, connect=None, read=None, redirect=None, status=None)) after connection broken by 'NewConnectionError('<pip._vendor.urllib3.connection.HTTPSConnection object at 0x000001FEEC3098B0>: Failed to establish a new connection: [Errno 11001] getaddrinfo failed')': /simple/flask/\n",
      "WARNING: Retrying (Retry(total=1, connect=None, read=None, redirect=None, status=None)) after connection broken by 'NewConnectionError('<pip._vendor.urllib3.connection.HTTPSConnection object at 0x000001FEEC309A60>: Failed to establish a new connection: [Errno 11001] getaddrinfo failed')': /simple/flask/\n",
      "WARNING: Retrying (Retry(total=0, connect=None, read=None, redirect=None, status=None)) after connection broken by 'NewConnectionError('<pip._vendor.urllib3.connection.HTTPSConnection object at 0x000001FEEC309C10>: Failed to establish a new connection: [Errno 11001] getaddrinfo failed')': /simple/flask/\n",
      "WARNING: Retrying (Retry(total=4, connect=None, read=None, redirect=None, status=None)) after connection broken by 'NewConnectionError('<pip._vendor.urllib3.connection.HTTPSConnection object at 0x000001FEEC3249A0>: Failed to establish a new connection: [Errno 11001] getaddrinfo failed')': /simple/watchdog/\n",
      "WARNING: Retrying (Retry(total=3, connect=None, read=None, redirect=None, status=None)) after connection broken by 'NewConnectionError('<pip._vendor.urllib3.connection.HTTPSConnection object at 0x000001FEEC324CD0>: Failed to establish a new connection: [Errno 11001] getaddrinfo failed')': /simple/watchdog/\n",
      "WARNING: Retrying (Retry(total=2, connect=None, read=None, redirect=None, status=None)) after connection broken by 'NewConnectionError('<pip._vendor.urllib3.connection.HTTPSConnection object at 0x000001FEEC324EB0>: Failed to establish a new connection: [Errno 11001] getaddrinfo failed')': /simple/watchdog/\n",
      "WARNING: Retrying (Retry(total=1, connect=None, read=None, redirect=None, status=None)) after connection broken by 'NewConnectionError('<pip._vendor.urllib3.connection.HTTPSConnection object at 0x000001FEEC324F70>: Failed to establish a new connection: [Errno 11001] getaddrinfo failed')': /simple/watchdog/\n",
      "WARNING: Retrying (Retry(total=0, connect=None, read=None, redirect=None, status=None)) after connection broken by 'NewConnectionError('<pip._vendor.urllib3.connection.HTTPSConnection object at 0x000001FEEC32C220>: Failed to establish a new connection: [Errno 11001] getaddrinfo failed')': /simple/watchdog/\n"
     ]
    },
    {
     "name": "stdout",
     "output_type": "stream",
     "text": [
      "\n",
      "Requirement already satisfied: watchdog in c:\\users\\karan\\anaconda3\\lib\\site-packages (4.0.0)\n",
      "Requirement already satisfied: importlib-metadata>=3.6.0 in c:\\users\\karan\\anaconda3\\lib\\site-packages (from flask) (4.11.3)\n",
      "Requirement already satisfied: Jinja2>=3.1.2 in c:\\users\\karan\\anaconda3\\lib\\site-packages (from flask) (3.1.3)\n",
      "Requirement already satisfied: blinker>=1.6.2 in c:\\users\\karan\\anaconda3\\lib\\site-packages (from flask) (1.7.0)\n",
      "Requirement already satisfied: Werkzeug>=3.0.0 in c:\\users\\karan\\anaconda3\\lib\\site-packages (from flask) (3.0.2)\n",
      "Requirement already satisfied: itsdangerous>=2.1.2 in c:\\users\\karan\\anaconda3\\lib\\site-packages (from flask) (2.1.2)\n",
      "Requirement already satisfied: click>=8.1.3 in c:\\users\\karan\\anaconda3\\lib\\site-packages (from flask) (8.1.7)\n",
      "Requirement already satisfied: colorama in c:\\users\\karan\\anaconda3\\lib\\site-packages (from click>=8.1.3->flask) (0.4.5)\n",
      "Requirement already satisfied: zipp>=0.5 in c:\\users\\karan\\anaconda3\\lib\\site-packages (from importlib-metadata>=3.6.0->flask) (3.8.0)\n",
      "Requirement already satisfied: MarkupSafe>=2.0 in c:\\users\\karan\\anaconda3\\lib\\site-packages (from Jinja2>=3.1.2->flask) (2.1.5)\n"
     ]
    }
   ],
   "source": [
    "!pip install --upgrade flask watchdog"
   ]
  },
  {
   "cell_type": "code",
   "execution_count": 2,
   "metadata": {},
   "outputs": [
    {
     "name": "stdout",
     "output_type": "stream",
     "text": [
      " * Serving Flask app '__main__'\n",
      " * Debug mode: off\n"
     ]
    },
    {
     "name": "stderr",
     "output_type": "stream",
     "text": [
      "WARNING: This is a development server. Do not use it in a production deployment. Use a production WSGI server instead.\n",
      " * Running on http://127.0.0.1:5000\n",
      "Press CTRL+C to quit\n",
      "127.0.0.1 - - [19/Apr/2024 22:36:33] \"GET / HTTP/1.1\" 200 -\n",
      "127.0.0.1 - - [19/Apr/2024 22:36:33] \"GET /favicon.ico HTTP/1.1\" 404 -\n",
      "c:\\Users\\Karan\\anaconda3\\lib\\site-packages\\sklearn\\base.py:450: UserWarning: X does not have valid feature names, but AdaBoostRegressor was fitted with feature names\n",
      "  warnings.warn(\n",
      "127.0.0.1 - - [19/Apr/2024 22:36:55] \"POST /predict HTTP/1.1\" 200 -\n"
     ]
    }
   ],
   "source": [
    "# Import necessary libraries\n",
    "from flask import Flask, request, render_template\n",
    "import numpy as np\n",
    "import pickle\n",
    "\n",
    "COMPLAINT_DICT = {'Chest pain, Transfer': 44725, 'Confusion, s/p Fall': 19980, 'R Leg pain, R Leg swelling': 14455, 'L Arm numbness, L Arm swelling': 7728, 'Epigastric pain': 4860, 'Coffee ground emesis': 4250, 'L Leg pain, s/p Fall': 1824, 'Abd pain, N/V': 1644, 'R Foot pain': 1200, 'Hematemesis': 1190, 'Chest pain, Nausea': 1188, 'Chest pain, N/V': 1152, 'Abnormal labs': 1047, 'Dyspnea': 784, 'Diarrhea, Hypotension': 690, 'Fatigue, s/p Fall': 660, 'R RIB PAIN': 576, 'LOWER EXTREMITY PAIN': 560, 'RLQ abdominal pain': 540, 'Right sided abdominal pain': 540, 'Abd pain, Right sided abdominal pain': 504, 'Abnormal labs, Hyperglycemia': 504, 'Tachycardia': 484, 'Abd pain, Diarrhea, Vomiting': 480, 'R FOOT ULCER/CELLULITIS': 350, 'Abd pain': 270, 'Dehydration, Nausea, Rash': 252, 'Psych eval': 224, 'Back pain, Decreased PO intake, R Ear pain': 210, 'DISLODGED ABD TUBE': 208, 'R Leg pain, Weakness': 192, 'Presyncope, Weakness': 192, 'Insomnia': 144, 'RIGHT FOOT INFECTION': 144, 'L Arm pain, L Arm swelling': 138, 'N/V, Tachycardia': 120, 'ABDOMINAL MASS, FEVER': 112, 'N/V, Hyperglycemia': 96, 'R FOOT PAIN': 80, 'N/V, Tinnitus': 72, 'Weakness, Atrial fibrillation, Transfer': 64, 'R LEG CELLULITIS': 48, 'Psychiatric hold, Altered mental status': 48, 'ABD PAIN': 30, 'Chest pain': 18, 'Neck pain, Med refill': 15, 'PE': 10, 'PICC LINE INFECTION': 6}\n",
    "DISPOSITION_DICT = {'HOME': 91265, 'ADMITTED': 22909, 'TRANSFER': 434}\n",
    "\n",
    "# Load the trained model\n",
    "model = pickle.load(open(\"C:\\\\Users\\\\Karan\\\\Desktop\\\\Patient_Wait_time\\\\model.pkl\", \"rb\"))\n",
    "\n",
    "app = Flask(__name__)\n",
    "\n",
    "@app.route('/')\n",
    "def home():\n",
    "    return render_template('index.html')\n",
    "\n",
    "@app.route('/predict', methods=['POST'])\n",
    "def predict():\n",
    "    try:\n",
    "        # Retrieve input data from the form\n",
    "        chiefcomplaint = request.form['chiefcomplaint']\n",
    "        dbp_triage = float(request.form['dbp_triage'])\n",
    "        pain_triage = float(request.form['pain_triage'])\n",
    "        sbp_triage = float(request.form['sbp_triage'])\n",
    "        temp_triage = float(request.form['temp_triage'])\n",
    "        ndc = float(request.form['ndc'])\n",
    "        o2sat_triage = float(request.form['o2sat_triage'])\n",
    "        disposition = request.form['disposition']\n",
    "        race = request.form['race']\n",
    "        \n",
    "        if chiefcomplaint in COMPLAINT_DICT.keys():\n",
    "            chiefcomplaint_encoded = COMPLAINT_DICT.get(chiefcomplaint)\n",
    "        else:\n",
    "            chiefcomplaint_encoded = 1\n",
    "\n",
    "        if disposition in DISPOSITION_DICT.keys():\n",
    "            disposition_encoded = DISPOSITION_DICT.get(disposition)\n",
    "        else:\n",
    "            disposition_encoded = 1\n",
    "\n",
    "        # Assemble input features in the order expected by the model\n",
    "        features = np.array([[chiefcomplaint_encoded, dbp_triage, pain_triage, sbp_triage, temp_triage, ndc, disposition_encoded]])\n",
    "        prediction = model.predict(features)\n",
    "        \n",
    "        # Render prediction template with the predicted wait time\n",
    "        return render_template(\"index.html\", prediction_text=f\"The wait time is Approximately {int(prediction[0])} Minutes\")\n",
    "    except Exception as e:\n",
    "        # On error, render the error template with a descriptive message\n",
    "        return render_template('error.html', message=f\"An error occurred while processing the prediction: {e}\")\n",
    "\n",
    "if __name__ == '__main__':\n",
    "    app.run(debug=False)"
   ]
  }
 ],
 "metadata": {
  "kernelspec": {
   "display_name": "base",
   "language": "python",
   "name": "python3"
  },
  "language_info": {
   "codemirror_mode": {
    "name": "ipython",
    "version": 3
   },
   "file_extension": ".py",
   "mimetype": "text/x-python",
   "name": "python",
   "nbconvert_exporter": "python",
   "pygments_lexer": "ipython3",
   "version": "3.9.13"
  }
 },
 "nbformat": 4,
 "nbformat_minor": 2
}
